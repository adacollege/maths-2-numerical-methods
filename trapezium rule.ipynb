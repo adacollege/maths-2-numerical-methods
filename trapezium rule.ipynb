{
 "cells": [
  {
   "cell_type": "code",
   "execution_count": 19,
   "metadata": {},
   "outputs": [],
   "source": [
    "import numpy as np\n",
    "import matplotlib.pyplot as plt\n",
    "plt.style.use('seaborn')\n",
    "%matplotlib inline"
   ]
  },
  {
   "cell_type": "code",
   "execution_count": 49,
   "metadata": {},
   "outputs": [],
   "source": [
    "def f(x):\n",
    "    return np.sqrt(1-x**4)\n",
    "\n",
    "def trap_rule(f, a, b, n, draw_graph = False):\n",
    "    #set up ordinate values\n",
    "    ord_xs = np.linspace(a,b, n+1)\n",
    "    ord_ys = f(ord_xs)\n",
    "    \n",
    "    if(draw_graph):\n",
    "        #plot function graph\n",
    "        extra = 0\n",
    "        #extra = (b-a)/8\n",
    "        xs = np.linspace(a-extra,b+extra)\n",
    "        ys = f(xs)\n",
    "        fig, ax = plt.subplots()\n",
    "        ax.plot(xs, ys)\n",
    "\n",
    "        #plot strips on graph\n",
    "        ax.plot(ord_xs, ord_ys, color ='r')\n",
    "        for x in ord_xs:\n",
    "            ax.plot([x,x],[0,f(x)], color = 'r')\n",
    "    \n",
    "    #calculate and return estimate for area\n",
    "    return (b-a)/n*(sum(ord_ys) - 0.5*(ord_ys[0] + ord_ys[n]))"
   ]
  },
  {
   "cell_type": "code",
   "execution_count": 51,
   "metadata": {},
   "outputs": [
    {
     "data": {
      "text/plain": [
       "0.8232720212941239"
      ]
     },
     "execution_count": 51,
     "metadata": {},
     "output_type": "execute_result"
    },
    {
     "data": {
      "image/png": "[encoded data removed]",
      "text/plain": [
       "<Figure size 432x288 with 1 Axes>"
      ]
     },
     "metadata": {
      "needs_background": "light"
     },
     "output_type": "display_data"
    }
   ],
   "source": [
    "trap_rule(f, 0, 1, 4, True)"
   ]
  }
 ],
 "metadata": {
  "hide_input": false,
  "kernelspec": {
   "display_name": "Python 3",
   "language": "python",
   "name": "python3"
  },
  "language_info": {
   "codemirror_mode": {
    "name": "ipython",
    "version": 3
   },
   "file_extension": ".py",
   "mimetype": "text/x-python",
   "name": "python",
   "nbconvert_exporter": "python",
   "pygments_lexer": "ipython3",
   "version": "3.6.8"
  }
 },
 "nbformat": 4,
 "nbformat_minor": 2
}
