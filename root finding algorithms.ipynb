{
 "cells": [
  {
   "cell_type": "code",
   "execution_count": 65,
   "metadata": {},
   "outputs": [],
   "source": [
    "#Example algorithms which find solutions which are no more than tol away from the real solution\n",
    "#Does not mean they round to the correct value!\n",
    "import math\n",
    "\n",
    "class ConvergenceError(Exception):\n",
    "    pass\n",
    "\n",
    "def f(x): return x - math.cos(x)\n",
    "def df(x): return 1 + math.sin(x)\n",
    "def g(x): return math.cos(x)\n",
    "    \n",
    "def rootbetween(x_0, x_1, f):\n",
    "    return f(x_0)*f(x_1)<=0"
   ]
  },
  {
   "cell_type": "code",
   "execution_count": 66,
   "metadata": {},
   "outputs": [],
   "source": [
    "#Interval bisection algorithm\n",
    "def ib(x_0, x_1, f, tol = 0.001, max_iterations = 100):\n",
    "    for _ in range(max_iterations):\n",
    "        mid = 0.5*(x_0+x_1)\n",
    "        if rootbetween(x_0, mid, f):\n",
    "            x_1 = mid\n",
    "        else:\n",
    "            x_0 = mid\n",
    "        if x_1 - x_0 < 0.5*tol:\n",
    "            return x_0        \n",
    "    raise ConvergenceError(\"Did not converge\")"
   ]
  },
  {
   "cell_type": "code",
   "execution_count": 67,
   "metadata": {},
   "outputs": [],
   "source": [
    "#newton-raphson algorithm\n",
    "def nr(f, df, x_0, tol=0.001, max_iterations = 100):\n",
    "    x_p = 0\n",
    "    x_n = x_0\n",
    "    for _ in range(max_iterations):\n",
    "        x_p = x_n\n",
    "        x_n = x_p - f(x_p)/df(x_p)\n",
    "        if rootbetween(x_n-0.5*tol, x_n+0.5*tol, f):\n",
    "            return x_n\n",
    "    raise ConvergenceError(\"Did not converge\")"
   ]
  },
  {
   "cell_type": "code",
   "execution_count": 68,
   "metadata": {},
   "outputs": [],
   "source": [
    "#fixed-point iteration algorithm\n",
    "def fpi(f, g, x_0, tol = 0.001, max_iterations = 100):\n",
    "    x_n = x_0\n",
    "    for _ in range(max_iterations):\n",
    "        x_n = g(x_n)\n",
    "        if rootbetween(x_n-0.5*tol, x_n+0.5*tol, f):\n",
    "            return x_n\n",
    "    raise ConvergenceError(\"This did not converge\")"
   ]
  },
  {
   "cell_type": "code",
   "execution_count": 69,
   "metadata": {},
   "outputs": [
    {
     "data": {
      "text/plain": [
       "(0.73876953125, 0.7391128909113617, 0.7395672022122561)"
      ]
     },
     "execution_count": 69,
     "metadata": {},
     "output_type": "execute_result"
    }
   ],
   "source": [
    "ib(0, 2,f), nr(f, df, 0), fpi(f, g, 0)"
   ]
  }
 ],
 "metadata": {
  "hide_input": false,
  "kernelspec": {
   "display_name": "Python 3",
   "language": "python",
   "name": "python3"
  },
  "language_info": {
   "codemirror_mode": {
    "name": "ipython",
    "version": 3
   },
   "file_extension": ".py",
   "mimetype": "text/x-python",
   "name": "python",
   "nbconvert_exporter": "python",
   "pygments_lexer": "ipython3",
   "version": "3.6.8"
  }
 },
 "nbformat": 4,
 "nbformat_minor": 2
}
